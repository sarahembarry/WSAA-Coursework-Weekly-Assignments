{
 "cells": [
  {
   "cell_type": "code",
   "execution_count": 85,
   "metadata": {},
   "outputs": [],
   "source": [
    "from github import Github\n",
    "from config import config as cfg"
   ]
  },
  {
   "cell_type": "code",
   "execution_count": 86,
   "metadata": {},
   "outputs": [],
   "source": [
    "# Retrieve GitHub API key from config file\n",
    "apikey = cfg[\"githubkey\"]"
   ]
  },
  {
   "cell_type": "code",
   "execution_count": 87,
   "metadata": {},
   "outputs": [],
   "source": [
    "# Create GitHub API session using the token\n",
    "g = Github(apikey)"
   ]
  },
  {
   "cell_type": "code",
   "execution_count": 88,
   "metadata": {},
   "outputs": [],
   "source": [
    "# Get the GitHub user\n",
    "user = g.get_user()"
   ]
  },
  {
   "cell_type": "code",
   "execution_count": 89,
   "metadata": {},
   "outputs": [],
   "source": [
    "# Fetch repository information\n",
    "repo_name = \"WSAA-coursework\"\n",
    "repo = g.get_repo(\"sarahembarry/WSAA-coursework\")"
   ]
  },
  {
   "cell_type": "code",
   "execution_count": 90,
   "metadata": {},
   "outputs": [],
   "source": [
    "# Define file path for the text file and get its contents\n",
    "file_path = \"assignments/assignment04.txt\"\n",
    "contents = repo.get_contents(file_path)"
   ]
  },
  {
   "cell_type": "markdown",
   "metadata": {},
   "source": [
    "[Reference: GitHub API using Python and PyGithub Module](https://devopslearning.medium.com/day-13-101-days-of-devops-github-api-using-python-and-pygithub-module-c1bcbaaeada7)<br/>\n",
    "[Reference:  PyGithub](https://pygithub.readthedocs.io/en/latest/examples/Repository.html)<br/>"
   ]
  },
  {
   "cell_type": "code",
   "execution_count": 91,
   "metadata": {},
   "outputs": [],
   "source": [
    "# Decode the content of the file from binary to string\n",
    "file_content = contents.decoded_content.decode()\n",
    "\n",
    "# Replace all instances of \"Andrew\" with \"Sarah\"\n",
    "new_content = file_content.replace(\"Andrew\", \"Sarah\")"
   ]
  },
  {
   "cell_type": "markdown",
   "metadata": {},
   "source": [
    "[Reference:Import and Export Files to and from GitHub via API](https://medium.com/plumbersofdatascience/import-and-export-files-to-and-from-github-via-api-626efd7dd859)<br/>\n",
    "[Reference:Read content of file which is in GitHub using PyGitHub](https://stackoverflow.com/questions/61292766/read-content-of-file-which-is-in-github-using-pygithub)<br/>\n",
    "[Reference:Python Strings decode() method](https://www.geeksforgeeks.org/python-strings-decode-method/)<br/>"
   ]
  },
  {
   "cell_type": "code",
   "execution_count": 92,
   "metadata": {},
   "outputs": [
    {
     "name": "stdout",
     "output_type": "stream",
     "text": [
      "Changes pushed successfully\n"
     ]
    }
   ],
   "source": [
    "# Commit and push the updated file to the repository\n",
    "repo.update_file(contents.path, \"Replaced 'Andrew' with 'Sarah'\", new_content, contents.sha)\n",
    "print(\"Changes pushed successfully\")"
   ]
  },
  {
   "cell_type": "markdown",
   "metadata": {},
   "source": [
    "[Reference: How to update a file using PyGithub](https://stackoverflow.com/questions/40630829/how-to-update-a-file-using-pygithub)<br/>\n"
   ]
  }
 ],
 "metadata": {
  "kernelspec": {
   "display_name": "base",
   "language": "python",
   "name": "python3"
  },
  "language_info": {
   "codemirror_mode": {
    "name": "ipython",
    "version": 3
   },
   "file_extension": ".py",
   "mimetype": "text/x-python",
   "name": "python",
   "nbconvert_exporter": "python",
   "pygments_lexer": "ipython3",
   "version": "3.11.9"
  }
 },
 "nbformat": 4,
 "nbformat_minor": 2
}
