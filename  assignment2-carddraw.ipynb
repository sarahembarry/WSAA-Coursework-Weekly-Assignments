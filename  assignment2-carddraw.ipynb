{
 "cells": [
  {
   "cell_type": "code",
   "execution_count": 191,
   "metadata": {},
   "outputs": [],
   "source": [
    "import requests"
   ]
  },
  {
   "cell_type": "code",
   "execution_count": 192,
   "metadata": {},
   "outputs": [],
   "source": [
    "# Shuffle\n",
    "shuffle_url = \"https://deckofcardsapi.com/api/deck/new/shuffle/?deck_count=1\"\n",
    "response = requests.get(shuffle_url)\n",
    "deck_data = response.json()\n",
    "deck_id = deck_data[\"deck_id\"]"
   ]
  },
  {
   "cell_type": "code",
   "execution_count": 193,
   "metadata": {},
   "outputs": [],
   "source": [
    "# Draw cards\n",
    "draw_url = f\"https://deckofcardsapi.com/api/deck/{deck_id}/draw/?count=5\"\n",
    "response = requests.get(draw_url)\n",
    "draw_data = response.json()\n",
    "cards = draw_data[\"cards\"]"
   ]
  },
  {
   "cell_type": "markdown",
   "metadata": {},
   "source": [
    "[Reference: response.json() – Python requests](https://www.geeksforgeeks.org/response-json-python-requests/)<br/>\n",
    "[Reference: Python program to extract a single value from JSON response](https://www.tutorialspoint.com/python-program-to-extract-a-single-value-from-json-response)<br/>"
   ]
  },
  {
   "cell_type": "code",
   "execution_count": 194,
   "metadata": {},
   "outputs": [
    {
     "name": "stdout",
     "output_type": "stream",
     "text": [
      "\n",
      "You drew:\n",
      "6 of CLUBS\n",
      "6 of HEARTS\n",
      "8 of SPADES\n",
      "7 of DIAMONDS\n",
      "8 of HEARTS\n"
     ]
    }
   ],
   "source": [
    "# Print the drawn cards\n",
    "values = []\n",
    "suits = []\n",
    "\n",
    "print(\"\\nYou drew:\")\n",
    "for card in cards:\n",
    "    value = card[\"value\"]\n",
    "    suit = card[\"suit\"]\n",
    "    values.append(value)\n",
    "    suits.append(suit)\n",
    "    print(f\"{value} of {suit}\")"
   ]
  },
  {
   "cell_type": "code",
   "execution_count": 195,
   "metadata": {},
   "outputs": [
    {
     "name": "stdout",
     "output_type": "stream",
     "text": [
      " Congratulations! You have a pair \n"
     ]
    }
   ],
   "source": [
    "# Map card face values to numeric equivalents\n",
    "value_order = {\n",
    "    \"ACE\": 1, \"2\": 2, \"3\": 3, \"4\": 4, \"5\": 5, \"6\": 6, \"7\": 7, \"8\": 8, \"9\": 9, \"10\": 10,\n",
    "    \"JACK\": 11, \"QUEEN\": 12, \"KING\": 13\n",
    "}\n",
    "\n",
    "# Convert card values to numeric and sort them\n",
    "numeric_values = sorted([value_order[val] for val in values])\n",
    "\n",
    "# Count occurrence of each card value\n",
    "value_counts = {value: values.count(value) for value in values}\n",
    "\n",
    "# Check for a triple or pair\n",
    "if 3 in value_counts.values():\n",
    "    print(\" Congratulations! You have a triple\")\n",
    "elif 2 in value_counts.values():\n",
    "    print(\" Congratulations! You have a pair \")\n",
    "\n",
    "# Check for a straight (consecutive values)\n",
    "if all(numeric_values[i] + 1 == numeric_values[i + 1] for i in range(len(numeric_values) - 1)):\n",
    "    print(\" Congratulations! You have a straight\")\n",
    "\n",
    "# Check for a flush (same suit)\n",
    "if len(set(suits)) == 1:\n",
    "    print(\" Congratulations! You have a flush\")"
   ]
  },
  {
   "cell_type": "markdown",
   "metadata": {},
   "source": [
    "[Reference: Finding the best poker hand in five-card draw with python](https://briancaffey.github.io/2018/01/02/checking-poker-hands-with-python)<br/>\n",
    "[Reference: Is it possible to identify if the numbers in a list in Python are consecutive? ](https://stackoverflow.com/questions/77309810/is-it-possible-to-identify-if-the-numbers-in-a-list-in-python-are-consecutive)<br/>\n",
    "[Reference: Python – Check if all elements in List are same ](https://www.geeksforgeeks.org/python-check-if-all-elements-in-a-list-are-same/)<br/>\n",
    "\n"
   ]
  }
 ],
 "metadata": {
  "kernelspec": {
   "display_name": "base",
   "language": "python",
   "name": "python3"
  },
  "language_info": {
   "codemirror_mode": {
    "name": "ipython",
    "version": 3
   },
   "file_extension": ".py",
   "mimetype": "text/x-python",
   "name": "python",
   "nbconvert_exporter": "python",
   "pygments_lexer": "ipython3",
   "version": "3.11.9"
  }
 },
 "nbformat": 4,
 "nbformat_minor": 2
}
